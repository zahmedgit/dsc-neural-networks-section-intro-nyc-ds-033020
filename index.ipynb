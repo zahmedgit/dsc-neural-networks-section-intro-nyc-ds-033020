{
 "cells": [
  {
   "cell_type": "markdown",
   "metadata": {},
   "source": [
    "# Neural Networks - Introduction\n",
    "\n",
    "## Introduction \n",
    "\n",
    "In this section, you'll be introduced to one of the most advanced machine learning algorithms currently in the world -- neural networks! \n",
    "\n",
    "## Deep Learning\n",
    "\n",
    "The time has come to learn about one of the most exciting and fast-growing areas of data science: Deep Learning! When we talk about deep learning, we are talking about (deep) neural networks. You'll learn all about them in this section. You'll also use Python to build (basic) neural networks from scratch.\n",
    "\n",
    "### Neural Networks\n",
    "\n",
    "In this section, you'll learn what it means when we talk about neural networks. You'll learn about the essential building blocks like \"layers\", \"nodes\", \"arrows\", \"weights\", \"loss\", \"cost function\", etc. You'll learn that a neural network generally consists of several layers, and how a logistic regression model can be represented as a neural network with just one layer. You'll be able to explain what the advantages and disadvantages of using neural networks are, and get an insight of how forward and backward propagation are used in neural networks to minimize the loss and \"optimize\" your neural network.\n",
    "\n",
    "### Keras\n",
    "You'll be introduced to Keras, a leading open source neural network library in Python, which makes building neural networks surprisingly easy. Before building your first neural network model in Keras, you'll learn about tensors and why they are important when building deep learning models. \n",
    "\n",
    "## Summary\n",
    "\n",
    "In this section, you'll learn the basics of neural networks and how to implement them in Keras!"
   ]
  }
 ],
 "metadata": {
  "kernelspec": {
   "display_name": "Python 3",
   "language": "python",
   "name": "python3"
  },
  "language_info": {
   "codemirror_mode": {
    "name": "ipython",
    "version": 3
   },
   "file_extension": ".py",
   "mimetype": "text/x-python",
   "name": "python",
   "nbconvert_exporter": "python",
   "pygments_lexer": "ipython3",
   "version": "3.6.9"
  }
 },
 "nbformat": 4,
 "nbformat_minor": 2
}
